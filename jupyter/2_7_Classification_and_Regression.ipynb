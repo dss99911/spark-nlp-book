{
 "cells": [
  {
   "cell_type": "code",
   "execution_count": 1,
   "metadata": {
    "colab": {},
    "colab_type": "code",
    "id": "HzgTx-7OuEnm"
   },
   "outputs": [],
   "source": [
    "! mkdir -p data"
   ]
  },
  {
   "cell_type": "code",
   "execution_count": 2,
   "metadata": {
    "colab": {
     "base_uri": "https://localhost:8080/",
     "height": 212
    },
    "colab_type": "code",
    "id": "dgBCSO9Fr-M5",
    "outputId": "847728dd-8a8c-49ab-d16c-d15384c9774a"
   },
   "outputs": [
    {
     "name": "stdout",
     "output_type": "stream",
     "text": [
      "Will not apply HSTS. The HSTS database must be a regular and non-world-writable file.\n",
      "ERROR: could not open HSTS store at '/home/alex/.wget-hsts'. HSTS will be disabled.\n",
      "--2020-07-28 16:34:31--  https://archive.ics.uci.edu/ml/machine-learning-databases/20newsgroups-mld/mini_newsgroups.tar.gz\n",
      "Resolving archive.ics.uci.edu (archive.ics.uci.edu)... 128.195.10.252\n",
      "Connecting to archive.ics.uci.edu (archive.ics.uci.edu)|128.195.10.252|:443... connected.\n",
      "HTTP request sent, awaiting response... 200 OK\n",
      "Length: 1860687 (1.8M) [application/x-httpd-php]\n",
      "Saving to: ‘mini_newsgroups.tar.gz.4’\n",
      "\n",
      "mini_newsgroups.tar 100%[===================>]   1.77M  4.99MB/s    in 0.4s    \n",
      "\n",
      "2020-07-28 16:34:32 (4.99 MB/s) - ‘mini_newsgroups.tar.gz.4’ saved [1860687/1860687]\n",
      "\n"
     ]
    }
   ],
   "source": [
    "! wget https://archive.ics.uci.edu/ml/machine-learning-databases/20newsgroups-mld/mini_newsgroups.tar.gz"
   ]
  },
  {
   "cell_type": "code",
   "execution_count": 3,
   "metadata": {
    "colab": {},
    "colab_type": "code",
    "id": "CiqkXr6SITVJ"
   },
   "outputs": [],
   "source": [
    "! tar xzf mini_newsgroups.tar.gz -C ./data/"
   ]
  },
  {
   "cell_type": "markdown",
   "metadata": {
    "colab_type": "text",
    "id": "8Yv3HA3EhHj2"
   },
   "source": [
    "# Classification and Regression\n",
    "\n",
    "The most common machine learning tasks performed on documents are classification and regression. From determining insurance billing codes for a clinical note (classification) to predicting the popularity of a social media post (regression), most document-level machine learning tasks fall into one of these categories, with classification being the much more common of the two.\n",
    "\n",
    "When beginning a machine learning task, it is very informative to try and manually label some documents, even if there are already labels in the data set. This will help you understand what content in the language of the documents can be used in your task. When labeling, note what you look for. For example, particular words or phrases, certain sections of the document, and even document length can be useful.\n",
    "\n",
    "In a chapter about classification and regression, you might expect most of the discussion to be about different modeling algorithms. With NLP, most of the work is in the featurization. Many of the general techniques for improving models will work with NLP, assuming you have created good features. We will go over some of the considerations for tuning modeling algorithms, but most of this chapter focuses on how to featurize text for classification and regression.\n",
    "\n",
    "We'll discuss the bag-of-words approach, regular expression-based features, and feature selection. After this, we will talk about how to iterate when building a model on text data.\n",
    "\n",
    "Let's load and process the mini_newsgroups data, so we can see examples of how to create these features."
   ]
  },
  {
   "cell_type": "markdown",
   "metadata": {},
   "source": [
    "# Classfication\n",
    "\n",
    "각 문서의 topic을 구하는 예제로 설명 진행함\n",
    "- sms에서 트랜젝션 여부와, category를 구하는 것과 비슷.\n",
    "\n",
    "1. 레이블 생성\n",
    "2. NLP라이브러리로 표제어 추출\n",
    "3. tfidf 구함\n",
    "4. 어휘 수를 줄이는 방법에 대해 설명\n",
    "    - minDF\n",
    "    - 불용어\n",
    "    - 특정 분야의 용어로 어휘를 제한\n",
    "    - 어휘 분포 확인 방법\n",
    "5. 모델 학습\n",
    "6. 평가"
   ]
  },
  {
   "cell_type": "code",
   "execution_count": null,
   "metadata": {},
   "outputs": [],
   "source": []
  },
  {
   "cell_type": "code",
   "execution_count": 1,
   "metadata": {
    "colab": {},
    "colab_type": "code",
    "id": "rJz1_iZVhNyK"
   },
   "outputs": [],
   "source": [
    "import os\n",
    "import re\n",
    "\n",
    "import matplotlib.pyplot as plt\n",
    "import numpy as np\n",
    "import pandas as pd\n",
    "\n",
    "from pyspark.sql.types import *\n",
    "from pyspark.sql.functions import expr\n",
    "from pyspark.sql import Row\n",
    "from pyspark.ml import Pipeline\n",
    "\n",
    "import sparknlp\n",
    "from sparknlp import DocumentAssembler, Finisher\n",
    "from sparknlp.annotator import *\n",
    "\n",
    "%matplotlib inline\n",
    "\n",
    "spark = sparknlp.start()"
   ]
  },
  {
   "cell_type": "markdown",
   "metadata": {
    "colab_type": "text",
    "id": "c2UPKkIzhISs"
   },
   "source": [
    "We will build a classifier to identify which newsgroup a document is from. The newsgroup is mentioned in the header of the documents, so let's remove those to be more sporting."
   ]
  },
  {
   "cell_type": "code",
   "execution_count": 3,
   "metadata": {
    "colab": {},
    "colab_type": "code",
    "id": "tyv9B7AxhReD"
   },
   "outputs": [],
   "source": [
    "HEADER_PTN = re.compile(r'^[a-zA-Z-]+:.*')\n",
    "\n",
    "def remove_header(path_text_pair):\n",
    "    path, text = path_text_pair\n",
    "    lines = text.split('\\n')\n",
    "    line_iterator = iter(lines)\n",
    "    while HEADER_PTN.match(next(line_iterator)) is not None:\n",
    "        pass\n",
    "    return path, '\\n'.join(line_iterator)"
   ]
  },
  {
   "cell_type": "markdown",
   "metadata": {},
   "source": [
    "뉴스들의 newsgroup을 classification해보는 예제\n",
    "- 문서의 header에 newsgroup에 대한 정보가 이미 있는데, 해당 정보 없이도 classfication을 하는게 목표이므로, 아래와 같은 header를 삭제\n",
    "```\n",
    "Xref: cantaloupe.srv.cs.cmu.edu alt.atheism:51121 soc.motss:139944 rec.scouting:5318\n",
    "Newsgroups: alt.atheism,soc.motss,rec.scouting\n",
    "Path: cantaloupe.srv.cs.cmu.edu!crabapple.srv.cs.cmu.edu!fs7.ece.cmu.edu!europa.eng.gtefsd.com!howland.reston.ans.net!wupost!uunet!newsgate.watson.ibm.com!yktnews.watson.ibm.com!watson!Watson.Ibm.Com!strom\n",
    "From: strom@Watson.Ibm.Com (Rob Strom)\n",
    "Subject: Re: [soc.motss, et al.] \"Princeton axes matching funds for Boy Scouts\"\n",
    "Sender: @watson.ibm.com\n",
    "Message-ID: <1993Apr05.180116.43346@watson.ibm.com>\n",
    "Date: Mon, 05 Apr 93 18:01:16 GMT\n",
    "Distribution: usa\n",
    "References: <C47EFs.3q47@austin.ibm.com> <1993Mar22.033150.17345@cbnewsl.cb.att.com> <N4HY.93Apr5120934@harder.ccr-p.ida.org>\n",
    "Organization: IBM Research\n",
    "Lines: 15\n",
    "```"
   ]
  },
  {
   "cell_type": "code",
   "execution_count": 5,
   "metadata": {
    "colab": {},
    "colab_type": "code",
    "id": "WlLEoHJLhSxU"
   },
   "outputs": [],
   "source": [
    "path = os.path.join('data', 'mini_newsgroups', '*')\n",
    "texts = spark.sparkContext.wholeTextFiles(path).map(remove_header)\n",
    "\n",
    "schema = StructType([\n",
    "    StructField('path', StringType()),\n",
    "    StructField('text', StringType()),\n",
    "])\n",
    "\n",
    "texts = spark.createDataFrame(texts, schema=schema) \\\n",
    "    .withColumn('newsgroup', expr('reverse(split(path, \"/\"))[1]')) \\\n",
    "    .persist()"
   ]
  },
  {
   "cell_type": "markdown",
   "metadata": {},
   "source": [
    "newsgroup 레이블 생성\n",
    "- split()[4]로 되어 있어서, 값이 제대로 안나왔는데, reverse()를 썼다면, 다른 환경에서도 잘 작동함\n",
    "- 20개의 레이블, 각 100개씩의 문서 사용"
   ]
  },
  {
   "cell_type": "code",
   "execution_count": 10,
   "metadata": {
    "colab": {
     "base_uri": "https://localhost:8080/",
     "height": 372
    },
    "colab_type": "code",
    "id": "DBbw6wFVhT-T",
    "outputId": "e1979c67-8b1c-4192-e4bd-5ff7317556eb",
    "scrolled": true
   },
   "outputs": [
    {
     "data": {
      "text/plain": [
       "[Row(newsgroup='comp.windows.x', count=100),\n",
       " Row(newsgroup='misc.forsale', count=100),\n",
       " Row(newsgroup='rec.sport.hockey', count=100),\n",
       " Row(newsgroup='rec.sport.baseball', count=100),\n",
       " Row(newsgroup='talk.politics.guns', count=100),\n",
       " Row(newsgroup='comp.os.ms-windows.misc', count=100),\n",
       " Row(newsgroup='talk.politics.misc', count=100),\n",
       " Row(newsgroup='comp.sys.ibm.pc.hardware', count=100),\n",
       " Row(newsgroup='comp.graphics', count=100),\n",
       " Row(newsgroup='soc.religion.christian', count=100),\n",
       " Row(newsgroup='comp.sys.mac.hardware', count=100),\n",
       " Row(newsgroup='talk.religion.misc', count=100),\n",
       " Row(newsgroup='talk.politics.mideast', count=100),\n",
       " Row(newsgroup='rec.motorcycles', count=100),\n",
       " Row(newsgroup='rec.autos', count=100),\n",
       " Row(newsgroup='alt.atheism', count=100),\n",
       " Row(newsgroup='sci.electronics', count=100),\n",
       " Row(newsgroup='sci.space', count=100),\n",
       " Row(newsgroup='sci.med', count=100),\n",
       " Row(newsgroup='sci.crypt', count=100)]"
      ]
     },
     "execution_count": 10,
     "metadata": {},
     "output_type": "execute_result"
    }
   ],
   "source": [
    "texts.groupBy('newsgroup').count().collect()"
   ]
  },
  {
   "cell_type": "code",
   "execution_count": 11,
   "metadata": {
    "colab": {
     "base_uri": "https://localhost:8080/",
     "height": 1000
    },
    "colab_type": "code",
    "id": "JAVRBPgyhVmi",
    "outputId": "bf5b2588-2546-4802-c76c-a7713d1c8b97"
   },
   "outputs": [
    {
     "name": "stdout",
     "output_type": "stream",
     "text": [
      "file:/Users/hyun.kim/workspace/projects/sample/spark-nlp-book/jupyter/data/mini_newsgroups/alt.atheism/53759\n",
      "alt.atheism\n",
      ">DATE:   Fri, 16 Apr 1993 14:15:20 +0100\n",
      ">FROM:   mathew <mathew@mantis.co.uk>\n",
      ">\n",
      ">The latest news seems to be that Koresh will give himself up once he's\n",
      ">finished writing a sequel to the Bible.\n",
      ">\n",
      ">mathew\n",
      "\n",
      "Writing the Seven Seals or something along those lines.  He's already\n",
      "written the first of the Seven which was around 30 pages or so and has\n",
      "handed it over to an assistant for PROOFREADING!.  I would expect any\n",
      "decent messiah to have a built-in spellchecker.  Maybe Koresh 2.0 will\n",
      "come with one.\n",
      "\n",
      "\n",
      "\n"
     ]
    }
   ],
   "source": [
    "print(texts.first()['path'])\n",
    "print(texts.first()['newsgroup'])\n",
    "print(texts.first()['text'])"
   ]
  },
  {
   "cell_type": "code",
   "execution_count": 6,
   "metadata": {
    "colab": {
     "base_uri": "https://localhost:8080/",
     "height": 70
    },
    "colab_type": "code",
    "id": "XOSfDDzfhW7Z",
    "outputId": "1d7fd886-81d1-423b-c36f-f092fd709fa2"
   },
   "outputs": [
    {
     "name": "stdout",
     "output_type": "stream",
     "text": [
      "lemma_antbnc download started this may take some time.\n",
      "Approximate size to download 907.6 KB\n",
      "[OK!]\n"
     ]
    }
   ],
   "source": [
    "assembler = DocumentAssembler()\\\n",
    "    .setInputCol('text')\\\n",
    "    .setOutputCol('document')\n",
    "sentence = SentenceDetector() \\\n",
    "    .setInputCols([\"document\"]) \\\n",
    "    .setOutputCol(\"sentences\")\n",
    "tokenizer = Tokenizer()\\\n",
    "    .setInputCols(['sentences'])\\\n",
    "    .setOutputCol('token')\n",
    "lemmatizer = LemmatizerModel.pretrained()\\\n",
    "    .setInputCols(['token'])\\\n",
    "    .setOutputCol('lemma')\n",
    "normalizer = Normalizer()\\\n",
    "    .setCleanupPatterns([\n",
    "        '[^a-zA-Z.-]+', \n",
    "        '^[^a-zA-Z]+', \n",
    "        '[^a-zA-Z]+$',\n",
    "    ])\\\n",
    "    .setInputCols(['lemma'])\\\n",
    "    .setOutputCol('normalized')\\\n",
    "    .setLowercase(True)\n",
    "finisher = Finisher()\\\n",
    "    .setInputCols(['normalized'])\\\n",
    "    .setOutputCols(['normalized'])\\\n",
    "    .setOutputAsArray(True)\n",
    "pipeline = Pipeline().setStages([\n",
    "    assembler, sentence, tokenizer, \n",
    "    lemmatizer, normalizer, finisher\n",
    "]).fit(texts)"
   ]
  },
  {
   "cell_type": "markdown",
   "metadata": {},
   "source": [
    "표제어 추출함\n",
    "\n",
    "Normalizer.setCleanupPatterns\n",
    "- 해당 정규식에 포함된 경우 제거\n",
    "- 문자외의 특수문자, 숫자 제거. (중간에 오면, .과 -도 허용하지만, 맨 앞,뒤에는 문자만 허용)"
   ]
  },
  {
   "cell_type": "code",
   "execution_count": 7,
   "metadata": {
    "colab": {},
    "colab_type": "code",
    "id": "jf3ORzNehjjq"
   },
   "outputs": [],
   "source": [
    "processed = pipeline.transform(texts).persist()"
   ]
  },
  {
   "cell_type": "code",
   "execution_count": 15,
   "metadata": {
    "colab": {
     "base_uri": "https://localhost:8080/",
     "height": 34
    },
    "colab_type": "code",
    "id": "qXN8IV0zhkvK",
    "outputId": "cc356533-8345-425d-b409-f5b7db4cba44"
   },
   "outputs": [
    {
     "name": "stdout",
     "output_type": "stream",
     "text": [
      "2000\n"
     ]
    }
   ],
   "source": [
    "print(processed.count()) # number of documents"
   ]
  },
  {
   "cell_type": "markdown",
   "metadata": {
    "colab_type": "text",
    "id": "9ISNcRZIhInM"
   },
   "source": [
    "## Bag-of-Words Features\n",
    "\n",
    "In the previous chapter we discussed document vectors built with TF.IDF. These features are the most common kinds of features used in document classification and regression. There is some difficulty in using features like this, however. Depending on the size of your corpus, you could potentially have more than a hundred thousand features, where any example will have only a few hundred to a few thousand nonzero features. This can be handled by creating a sparse representation of your feature matrix, where 0 values are omitted. However, not all training algorithms support sparse matrices. This is where the vocabulary reduction techniques we discussed in #processing_words become important.\n",
    "\n",
    "\n",
    "If you have already reduced your vocabulary, but you still need to reduce the number of your features, it is time to consider using a restricted vocabulary. For example, when working with clinical data, it might be best to restrict your vocabulary to medical terminology. This can be done by using external resources like the Unified Medical Language Service (UMLS). If you are working in other domains, consider curating a wordlist. Curated vocabularies can be a filter for your features. There are some pros and cons to such vocabularies, though. They are not biased by the information in your data set, so they will not contribute to overfitting. Conversely, there may be features that are unlikely to show up in a generalized curated list that are genuinely useful. This is why it is important for you to label some examples during iterations of your model building. If you have filtered your vocabulary, you can sample the erroneously classified examples for additions to your vocabulary.\n",
    "\n",
    "The extension of this manual feature selection is trying to combine parts of the vocabulary into a smaller set of features. This can be done with regular expressions.\n",
    "\n",
    "Let's look at an example of bag-of-words in Spark"
   ]
  },
  {
   "cell_type": "code",
   "execution_count": 34,
   "metadata": {
    "colab": {},
    "colab_type": "code",
    "id": "9sGRTpfmhquS"
   },
   "outputs": [],
   "source": [
    "from pyspark.ml.feature import CountVectorizer, IDF\n",
    "\n",
    "count_vectorizer = CountVectorizer(\n",
    "    inputCol='normalized', outputCol='tf', minDF=10)\n",
    "idf = IDF(inputCol='tf', outputCol='tfidf', minDocFreq=10)\n",
    "\n",
    "bow_pipeline = Pipeline(stages=[count_vectorizer, idf])\n",
    "bow_pipeline = bow_pipeline.fit(processed)\n",
    "\n",
    "bows = bow_pipeline.transform(processed)"
   ]
  },
  {
   "cell_type": "markdown",
   "metadata": {},
   "source": [
    "표제어에서 tfidf를 구함.\n",
    "\n",
    "SparsedVector를 지원하지 않는 경우등, 어휘 수를 더 감소시켜야 하는 경우가 있음.\n",
    "\n",
    "- 특정 분야의 용어로 어휘를 제한하기(의학용어의 경우 UMLS라는 오픈 리소스 사용 가능)\n",
    "\t- 장 : 과적합을 피함(의미 있는 단어들로만 학습하기 때문에, 비슷한 문서로만 학습해도, 어느정도 효과가 있다는 의미 인듯)\n",
    "\t- 단 : 일반화 되지 않는 특성이 있는 경우, 반영하지 못함 (용어에 없는 단어가 의미를 지닐 때, 이걸 반영하지 못함)\n",
    "    - Q : CounterVectorizer 의 fit을 해당 용어로 하면 되는 건지?\n",
    "\n",
    "어휘수 감소 설명하다가, 갑자기 tfidf를 구하는 코드를 설명 없이 보여주는데, minDF를 통해, 어휘 감소하는 코드를 보여주는 것 같음.\n",
    "\n",
    "minDF : minimum document frequency. vocabulary에 등록이 되려면, 최소한 minDF 갯수 이상의 문서가 있어야 함. \n",
    "- 보통 가중치는 어휘가 적은 문서에서 발생할 때, 높게 주는데(IDF), \n",
    "- 이 설정은 어찌보면 그와 반대로 보일 수도 있지만, classification을 하려고 하고 있고, 한 레이블당 100개의 문서가 있으므로, 너무 적은 문서에서 나오는 용어는 오히려 의미 없는 용어로 해석할 수도 있으므로, \n",
    "- classification을 할 때, 각 레이블 당 문서의 수에 맞춰서 적절히 설정해주면 될듯.? default 1\n",
    "\n",
    "Q. minDocFreq : minimum number of documents. default 0. "
   ]
  },
  {
   "cell_type": "code",
   "execution_count": null,
   "metadata": {},
   "outputs": [],
   "source": []
  },
  {
   "cell_type": "code",
   "execution_count": 20,
   "metadata": {
    "colab": {
     "base_uri": "https://localhost:8080/",
     "height": 197
    },
    "colab_type": "code",
    "id": "7Ygu8APlhsJ4",
    "outputId": "126d046a-986b-4ebf-e65a-96fbde58f08a"
   },
   "outputs": [
    {
     "data": {
      "text/html": [
       "<div>\n",
       "<style scoped>\n",
       "    .dataframe tbody tr th:only-of-type {\n",
       "        vertical-align: middle;\n",
       "    }\n",
       "\n",
       "    .dataframe tbody tr th {\n",
       "        vertical-align: top;\n",
       "    }\n",
       "\n",
       "    .dataframe thead th {\n",
       "        text-align: right;\n",
       "    }\n",
       "</style>\n",
       "<table border=\"1\" class=\"dataframe\">\n",
       "  <thead>\n",
       "    <tr style=\"text-align: right;\">\n",
       "      <th></th>\n",
       "      <th>tf</th>\n",
       "      <th>tfidf</th>\n",
       "    </tr>\n",
       "  </thead>\n",
       "  <tbody>\n",
       "    <tr>\n",
       "      <th>0</th>\n",
       "      <td>(5.0, 2.0, 4.0, 1.0, 2.0, 1.0, 1.0, 0.0, 1.0, ...</td>\n",
       "      <td>(0.3653528393824329, 0.1830385468576392, 0.526...</td>\n",
       "    </tr>\n",
       "    <tr>\n",
       "      <th>1</th>\n",
       "      <td>(7.0, 8.0, 1.0, 3.0, 3.0, 1.0, 8.0, 4.0, 2.0, ...</td>\n",
       "      <td>(0.5114939751354061, 0.7321541874305568, 0.131...</td>\n",
       "    </tr>\n",
       "    <tr>\n",
       "      <th>2</th>\n",
       "      <td>(4.0, 2.0, 4.0, 0.0, 0.0, 0.0, 4.0, 1.0, 0.0, ...</td>\n",
       "      <td>(0.2922822715059463, 0.1830385468576392, 0.526...</td>\n",
       "    </tr>\n",
       "    <tr>\n",
       "      <th>3</th>\n",
       "      <td>(3.0, 3.0, 3.0, 1.0, 1.0, 4.0, 3.0, 3.0, 3.0, ...</td>\n",
       "      <td>(0.21921170362945974, 0.2745578202864588, 0.39...</td>\n",
       "    </tr>\n",
       "    <tr>\n",
       "      <th>4</th>\n",
       "      <td>(9.0, 12.0, 8.0, 8.0, 2.0, 5.0, 3.0, 1.0, 7.0,...</td>\n",
       "      <td>(0.6576351108883792, 1.0982312811458352, 1.053...</td>\n",
       "    </tr>\n",
       "  </tbody>\n",
       "</table>\n",
       "</div>"
      ],
      "text/plain": [
       "                                                  tf  \\\n",
       "0  (5.0, 2.0, 4.0, 1.0, 2.0, 1.0, 1.0, 0.0, 1.0, ...   \n",
       "1  (7.0, 8.0, 1.0, 3.0, 3.0, 1.0, 8.0, 4.0, 2.0, ...   \n",
       "2  (4.0, 2.0, 4.0, 0.0, 0.0, 0.0, 4.0, 1.0, 0.0, ...   \n",
       "3  (3.0, 3.0, 3.0, 1.0, 1.0, 4.0, 3.0, 3.0, 3.0, ...   \n",
       "4  (9.0, 12.0, 8.0, 8.0, 2.0, 5.0, 3.0, 1.0, 7.0,...   \n",
       "\n",
       "                                               tfidf  \n",
       "0  (0.3653528393824329, 0.1830385468576392, 0.526...  \n",
       "1  (0.5114939751354061, 0.7321541874305568, 0.131...  \n",
       "2  (0.2922822715059463, 0.1830385468576392, 0.526...  \n",
       "3  (0.21921170362945974, 0.2745578202864588, 0.39...  \n",
       "4  (0.6576351108883792, 1.0982312811458352, 1.053...  "
      ]
     },
     "execution_count": 20,
     "metadata": {},
     "output_type": "execute_result"
    }
   ],
   "source": [
    "bows.limit(5).toPandas()[['tf', 'tfidf']]"
   ]
  },
  {
   "cell_type": "code",
   "execution_count": 35,
   "metadata": {},
   "outputs": [
    {
     "name": "stdout",
     "output_type": "stream",
     "text": [
      "[SparseVector(3155, {0: 5.0, 1: 2.0, 2: 4.0, 3: 1.0, 4: 2.0, 5: 1.0, 6: 1.0, 8: 1.0, 10: 1.0, 11: 2.0, 12: 1.0, 17: 1.0, 19: 2.0, 25: 1.0, 29: 2.0, 30: 1.0, 31: 1.0, 33: 2.0, 34: 1.0, 39: 1.0, 41: 1.0, 47: 1.0, 64: 1.0, 100: 1.0, 104: 1.0, 106: 1.0, 108: 1.0, 122: 1.0, 133: 1.0, 136: 1.0, 149: 1.0, 215: 1.0, 283: 1.0, 332: 1.0, 355: 1.0, 380: 1.0, 385: 1.0, 446: 1.0, 482: 1.0, 507: 1.0, 545: 1.0, 547: 1.0, 566: 2.0, 679: 1.0, 801: 1.0, 861: 2.0, 1017: 1.0, 2068: 1.0, 2250: 1.0, 2344: 1.0, 2394: 2.0, 2479: 2.0, 2929: 1.0, 2966: 1.0, 3011: 1.0})]\n",
      "[SparseVector(3155, {0: 0.3654, 1: 0.183, 2: 0.527, 3: 0.1814, 4: 0.3015, 5: 0.1959, 6: 0.1595, 8: 0.343, 10: 0.3493, 11: 0.6345, 12: 0.3409, 17: 0.6066, 19: 1.2954, 25: 0.8515, 29: 1.1026, 30: 0.897, 31: 0.9193, 33: 2.1734, 34: 0.9813, 39: 0.946, 41: 0.9975, 47: 1.2523, 64: 1.3418, 100: 1.7608, 104: 1.8207, 106: 1.7784, 108: 1.8811, 122: 1.9384, 133: 2.0331, 136: 2.0067, 149: 2.3974, 215: 2.2882, 283: 2.5841, 332: 2.6598, 355: 2.6598, 380: 2.7811, 385: 2.7262, 446: 2.9863, 482: 3.0164, 507: 2.938, 545: 3.5239, 547: 3.6502, 566: 6.7346, 679: 3.2447, 801: 3.3529, 861: 8.0358, 1017: 3.7728, 2068: 4.5569, 2250: 5.2035, 2344: 5.0365, 2394: 9.7867, 2479: 9.6576, 2929: 5.2035, 2966: 5.1165, 3011: 5.1165})]\n"
     ]
    }
   ],
   "source": [
    "print(list(bows.limit(5).toPandas()[['tf', 'tfidf']].head(1)[\"tf\"]))\n",
    "print(list(bows.limit(5).toPandas()[['tf', 'tfidf']].head(1)[\"tfidf\"]))"
   ]
  },
  {
   "cell_type": "code",
   "execution_count": 33,
   "metadata": {},
   "outputs": [
    {
     "name": "stdout",
     "output_type": "stream",
     "text": [
      "[SparseVector(35541, {0: 5.0, 1: 2.0, 2: 4.0, 3: 1.0, 4: 2.0, 5: 1.0, 6: 1.0, 8: 1.0, 10: 1.0, 11: 2.0, 12: 1.0, 17: 1.0, 19: 2.0, 25: 1.0, 29: 2.0, 30: 1.0, 31: 1.0, 33: 2.0, 34: 1.0, 39: 1.0, 41: 1.0, 47: 1.0, 64: 1.0, 101: 1.0, 104: 1.0, 106: 1.0, 108: 1.0, 122: 1.0, 133: 1.0, 136: 1.0, 149: 1.0, 215: 1.0, 283: 1.0, 333: 1.0, 353: 1.0, 381: 1.0, 388: 1.0, 445: 1.0, 487: 1.0, 509: 1.0, 548: 1.0, 549: 1.0, 574: 2.0, 675: 1.0, 800: 1.0, 867: 2.0, 1024: 1.0, 2172: 1.0, 2367: 1.0, 2544: 2.0, 2546: 1.0, 2571: 2.0, 3365: 1.0, 3381: 1.0, 3524: 1.0, 10038: 1.0, 10274: 1.0, 12923: 1.0, 13009: 1.0, 13808: 1.0, 13983: 1.0})]\n",
      "[SparseVector(35541, {0: 0.3654, 1: 0.183, 2: 0.527, 3: 0.1814, 4: 0.3015, 5: 0.1959, 6: 0.1595, 8: 0.343, 10: 0.3493, 11: 0.6345, 12: 0.3409, 17: 0.6066, 19: 1.2954, 25: 0.8515, 29: 1.1026, 30: 0.897, 31: 0.9193, 33: 2.1734, 34: 0.9813, 39: 0.946, 41: 0.9975, 47: 1.2523, 64: 1.3418, 101: 1.7608, 104: 1.8207, 106: 1.7784, 108: 1.8811, 122: 1.9384, 133: 2.0331, 136: 2.0067, 149: 2.3974, 215: 2.2882, 283: 2.5841, 333: 2.6598, 353: 2.6598, 381: 2.7811, 388: 2.7262, 445: 2.9863, 487: 3.0164, 509: 2.938, 548: 3.6502, 549: 3.5239, 574: 6.7346, 675: 3.2447, 800: 3.3529, 867: 8.0358, 1024: 3.7728, 2172: 4.5569, 2367: 5.2035, 2544: 9.7867, 2546: 5.0365, 2571: 9.6576, 3365: 5.2035, 3381: 5.1165, 3524: 5.1165, 10038: 6.2151, 10274: 6.2151, 12923: 6.5028, 13009: 6.5028, 13808: 6.5028, 13983: 6.5028})]\n"
     ]
    }
   ],
   "source": [
    "from pyspark.ml.feature import CountVectorizer, IDF\n",
    "\n",
    "count_vectorizer = CountVectorizer(\n",
    "    inputCol='normalized', outputCol='tf')\n",
    "idf = IDF(inputCol='tf', outputCol='tfidf')\n",
    "\n",
    "bow_pipeline = Pipeline(stages=[count_vectorizer, idf])\n",
    "bow_pipeline = bow_pipeline.fit(processed)\n",
    "\n",
    "bows = bow_pipeline.transform(processed)\n",
    "print(list(bows.limit(5).toPandas()[['tf', 'tfidf']].head(1)[\"tf\"]))\n",
    "print(list(bows.limit(5).toPandas()[['tf', 'tfidf']].head(1)[\"tfidf\"]))"
   ]
  },
  {
   "cell_type": "code",
   "execution_count": 37,
   "metadata": {},
   "outputs": [
    {
     "name": "stdout",
     "output_type": "stream",
     "text": [
      "[SparseVector(3155, {0: 5.0, 1: 2.0, 2: 4.0, 3: 1.0, 4: 2.0, 5: 1.0, 6: 1.0, 8: 1.0, 10: 1.0, 11: 2.0, 12: 1.0, 17: 1.0, 19: 2.0, 25: 1.0, 29: 2.0, 30: 1.0, 31: 1.0, 33: 2.0, 34: 1.0, 39: 1.0, 41: 1.0, 47: 1.0, 64: 1.0, 100: 1.0, 104: 1.0, 106: 1.0, 108: 1.0, 122: 1.0, 133: 1.0, 136: 1.0, 150: 1.0, 215: 1.0, 284: 1.0, 332: 1.0, 355: 1.0, 380: 1.0, 385: 1.0, 443: 1.0, 486: 1.0, 506: 1.0, 546: 1.0, 547: 1.0, 571: 2.0, 673: 1.0, 797: 1.0, 867: 2.0, 1009: 1.0, 2084: 1.0, 2231: 1.0, 2396: 2.0, 2399: 1.0, 2430: 2.0, 2938: 1.0, 2957: 1.0, 3014: 1.0})]\n",
      "[SparseVector(3155, {0: 0.3654, 1: 0.183, 2: 0.527, 3: 0.1814, 4: 0.3015, 5: 0.1959, 6: 0.1595, 8: 0.343, 10: 0.3493, 11: 0.6345, 12: 0.3409, 17: 0.6066, 19: 1.2954, 25: 0.8515, 29: 1.1026, 30: 0.897, 31: 0.9193, 33: 2.1734, 34: 0.9813, 39: 0.946, 41: 0.9975, 47: 1.2523, 64: 1.3418, 100: 1.7608, 104: 1.8207, 106: 1.7784, 108: 1.8811, 122: 1.9384, 133: 2.0331, 136: 2.0067, 150: 2.3974, 215: 2.2882, 284: 2.5841, 332: 2.6598, 355: 2.6598, 380: 2.7811, 385: 2.7262, 443: 2.9863, 486: 3.0164, 506: 2.938, 546: 3.6502, 547: 3.5239, 571: 6.7346, 673: 3.2447, 797: 3.3529, 867: 8.0358, 1009: 3.7728, 2084: 4.5569, 2231: 5.2035, 2396: 9.7867, 2399: 5.0365, 2430: 9.6576, 2938: 5.2035, 2957: 5.1165, 3014: 5.1165})]\n"
     ]
    }
   ],
   "source": [
    "from pyspark.ml.feature import CountVectorizer, IDF\n",
    "\n",
    "count_vectorizer = CountVectorizer(\n",
    "    inputCol='normalized', outputCol='tf', minDF=10)\n",
    "idf = IDF(inputCol='tf', outputCol='tfidf')\n",
    "\n",
    "bow_pipeline = Pipeline(stages=[count_vectorizer, idf])\n",
    "bow_pipeline = bow_pipeline.fit(processed)\n",
    "\n",
    "bows = bow_pipeline.transform(processed)\n",
    "print(list(bows.limit(5).toPandas()[['tf', 'tfidf']].head(1)[\"tf\"]))\n",
    "print(list(bows.limit(5).toPandas()[['tf', 'tfidf']].head(1)[\"tfidf\"]))"
   ]
  },
  {
   "cell_type": "markdown",
   "metadata": {},
   "source": [
    "minDF=10 를 함으로써, 어휘 수가 35541 -> 3155로 줄어듬.\n",
    "\n",
    "minDf만 한 경우와 minDocFreq도 같이 한 경우 차이\n",
    "- 이상하게 tf의 term index값도 다름.. idf에서 어떤 설정을 하든 무관하게 tf는 나와야 하는 건 아닌지?\n",
    "- idf에서 vocabulary가 바뀌면서 tf의 vocabulary도 바뀌는 듯? 그런데, voca숫자는 줄지 않았는데?\n"
   ]
  },
  {
   "cell_type": "markdown",
   "metadata": {
    "colab_type": "text",
    "id": "bJ67tFtBhI5C"
   },
   "source": [
    "## Regular Expression Features\n",
    "\n",
    "Let's say you are trying to separate short stories into genres. For this example, we have only three genres in our corpus: science fiction, fantasy, and horror. We can create specific features to help us classify. If we have word lists, we can combine them into a single feature. There are a couple of ways to do this.\n",
    "\n",
    "* Use bag-of-words features and create a feature that is the result of aggregating the TF.IDF values of the features with sum or max.\n",
    "* Create a new feature by creating a new token. You can preprocess the documents, adding a tag to any document that contains a word from the vocabulary. You can then calculate TF.IDF for this tag.\n",
    "\n",
    "We can add other kinds of features. For example, it is common in science fiction to refer to rare and fictional minerals—for example, dilithium (both a real substance and a fictional mineral in Star Trek) and adamantium (a fictional alloy in Marvel comics). We could create a regular expression that looks for the common endings to these minerals.\n",
    "\n",
    "* `(lith|ant|an)ium`\n",
    "\n",
    "Discovering which of these features will help us classify is a task on which the data scientist and the domain expert should collaborate. The data scientist can find features that are potentially helpful to the model. The domain expert can identify which features are actually related to the problem and which are spuriously correlated with the target variable.\n",
    "\n",
    "These features are useful for a first version of a model, but they have some serious drawbacks. If you wish to build a similar model on text in another language, it is very likely that you will not be able to reuse regular expression features.\n",
    "\n",
    "Let's use the RegexMatcher from Spark NLP for finding matches in the text of the document."
   ]
  },
  {
   "cell_type": "markdown",
   "metadata": {},
   "source": [
    "데이터 과학자와 도메인 전문가라는 표현이 있는데,\n",
    "NER개발할 때, 제가 도메인 전문가로써 역할을 하면서, 패턴의 결과값과 비교하여, 잘못 처리된 경우에 정확도를 높이는 작업을 하면 좋을 것 같음.\n",
    "\n",
    "동일 모델을 다른 도메인의 문서에 적용하면 잘 작동안할 수 있으므로, 업체별로 커스터마이징하는게 좋지 않을까 하는 생각을 해봄"
   ]
  },
  {
   "cell_type": "code",
   "execution_count": 12,
   "metadata": {
    "colab": {
     "base_uri": "https://localhost:8080/",
     "height": 34
    },
    "colab_type": "code",
    "id": "s1CHhgQGh6SK",
    "outputId": "60e0efd7-70dd-4a7d-de6f-53585a6b33fc"
   },
   "outputs": [
    {
     "name": "stdout",
     "output_type": "stream",
     "text": [
      "Overwriting scifi_rules.tsv\n"
     ]
    }
   ],
   "source": [
    "%%writefile scifi_rules.tsv\n",
    "\\w+(lith|ant|an)ium,mineral\n",
    "(alien|cosmic|quantum|dimension(al)?),space_word"
   ]
  },
  {
   "cell_type": "code",
   "execution_count": 14,
   "metadata": {
    "colab": {},
    "colab_type": "code",
    "id": "pJrj7137h706"
   },
   "outputs": [],
   "source": [
    "regex_matcher = RegexMatcher() \\\n",
    "    .setOutputCol(\"regex\") \\\n",
    "    .setExternalRules('./scifi_rules.tsv', ',')"
   ]
  },
  {
   "cell_type": "markdown",
   "metadata": {},
   "source": [
    ",로 구분하여, 왼쪽은 regex, 오른쪽은 변환될 단어라고 생각했는데, 매칭되는 단어를 찾아주기만 함\n",
    "\n",
    "Q. regex로 특정 단어를 다른 단어로 변환하는 annotator가 있으면 좋을 것 같은데, 이건 어떻게 하지?\n",
    "\n",
    "setInputCols()가 생략되어 있는데, 이 경우, 이전 annotation 컬럼을 사용한다고 함."
   ]
  },
  {
   "cell_type": "markdown",
   "metadata": {
    "colab_type": "text",
    "id": "Vzho1vrIhJDB"
   },
   "source": [
    "Because the RegexMatcher works on the raw text, it does not need the other stages. Normally, you would extract the regex matches along with other text-based features. "
   ]
  },
  {
   "cell_type": "code",
   "execution_count": 15,
   "metadata": {
    "colab": {},
    "colab_type": "code",
    "id": "kISRqnDyh-dX"
   },
   "outputs": [],
   "source": [
    "regex_finisher = Finisher()\\\n",
    "    .setInputCols(['regex'])\\\n",
    "    .setOutputCols(['regex'])\\\n",
    "    .setOutputAsArray(True)\n",
    "\n",
    "regex_rule_pipeline = Pipeline().setStages([\n",
    "    assembler, regex_matcher, regex_finisher\n",
    "]).fit(texts)\n",
    "\n",
    "regex_matches = regex_rule_pipeline.transform(texts)"
   ]
  },
  {
   "cell_type": "code",
   "execution_count": 16,
   "metadata": {
    "colab": {
     "base_uri": "https://localhost:8080/",
     "height": 197
    },
    "colab_type": "code",
    "id": "Gz_Oefa1h_oS",
    "outputId": "de8767b3-26fe-4ffe-9c36-e918d2589178",
    "scrolled": true
   },
   "outputs": [
    {
     "data": {
      "text/html": [
       "<div>\n",
       "<style scoped>\n",
       "    .dataframe tbody tr th:only-of-type {\n",
       "        vertical-align: middle;\n",
       "    }\n",
       "\n",
       "    .dataframe tbody tr th {\n",
       "        vertical-align: top;\n",
       "    }\n",
       "\n",
       "    .dataframe thead th {\n",
       "        text-align: right;\n",
       "    }\n",
       "</style>\n",
       "<table border=\"1\" class=\"dataframe\">\n",
       "  <thead>\n",
       "    <tr style=\"text-align: right;\">\n",
       "      <th></th>\n",
       "      <th>newsgroup</th>\n",
       "      <th>regex</th>\n",
       "    </tr>\n",
       "  </thead>\n",
       "  <tbody>\n",
       "    <tr>\n",
       "      <th>0</th>\n",
       "      <td>talk.politics.guns</td>\n",
       "      <td>[alien, alien, alien, alien, alien, alien, alien]</td>\n",
       "    </tr>\n",
       "    <tr>\n",
       "      <th>1</th>\n",
       "      <td>comp.graphics</td>\n",
       "      <td>[dimensional, dimension, dimensional, dimension]</td>\n",
       "    </tr>\n",
       "    <tr>\n",
       "      <th>2</th>\n",
       "      <td>sci.space</td>\n",
       "      <td>[quantum, quantum, cosmic]</td>\n",
       "    </tr>\n",
       "    <tr>\n",
       "      <th>3</th>\n",
       "      <td>sci.space</td>\n",
       "      <td>[cosmic, cosmic, cosmic]</td>\n",
       "    </tr>\n",
       "    <tr>\n",
       "      <th>4</th>\n",
       "      <td>sci.med</td>\n",
       "      <td>[dimensional, alien, dimensional]</td>\n",
       "    </tr>\n",
       "  </tbody>\n",
       "</table>\n",
       "</div>"
      ],
      "text/plain": [
       "            newsgroup                                              regex\n",
       "0  talk.politics.guns  [alien, alien, alien, alien, alien, alien, alien]\n",
       "1       comp.graphics   [dimensional, dimension, dimensional, dimension]\n",
       "2           sci.space                         [quantum, quantum, cosmic]\n",
       "3           sci.space                           [cosmic, cosmic, cosmic]\n",
       "4             sci.med                  [dimensional, alien, dimensional]"
      ]
     },
     "execution_count": 16,
     "metadata": {},
     "output_type": "execute_result"
    }
   ],
   "source": [
    "regex_matches.orderBy(expr('size(regex)').desc())\\\n",
    "    .limit(5).toPandas()[['newsgroup', 'regex']]"
   ]
  },
  {
   "cell_type": "markdown",
   "metadata": {},
   "source": [
    "오른쪽 단어는 metadata.identifier에 설정됨.\n",
    "\n",
    "Q. 이 metadata를 어떤식으로 활용하는 것인지?\n",
    "\n",
    "{'annotatorType': 'chunk', 'begin': 8, 'end': 12, 'result': 'alien', 'metadata': {'sentence': '0', 'identifier': 'space_word', 'chunk': '0'}, 'embeddings': []}"
   ]
  },
  {
   "cell_type": "markdown",
   "metadata": {
    "colab_type": "text",
    "id": "WYWyJznOhJKq"
   },
   "source": [
    "There are a few ways in which these can be turned into features. You can create binary features—in other words, the value is 1 if any of the regexes match. You can also use the number of matches as a feature.\n",
    "\n",
    "Now that we have introduced two of the most common classic NLP features, let's talk about how we reduce our dimensions."
   ]
  },
  {
   "cell_type": "markdown",
   "metadata": {
    "colab_type": "text",
    "id": "RY6MxPaMhJRF"
   },
   "source": [
    "## Feature Selection\n",
    "  Once you have determined a set of features, often a mix of bag-of-words and regular expressions, you may find that you have a very high dimensional feature space. This will depend very much on the sort of language used in the corpus. In highly technical corpora, it is not uncommon to have more features than examples. If you look at the distribution, you will see that they are distributed by a power law.\n",
    "\n",
    "We can use the Spark `StopWordsRemover` to remove words like \"the\" and \"of,\" like we discussed in \"Information Retrieval\"."
   ]
  },
  {
   "cell_type": "code",
   "execution_count": 17,
   "metadata": {
    "colab": {},
    "colab_type": "code",
    "id": "X-qhQ6fYiKVB"
   },
   "outputs": [],
   "source": [
    "from pyspark.ml.feature import StopWordsRemover\n",
    "\n",
    "sw_remover = StopWordsRemover() \\\n",
    "    .setInputCol(\"normalized\") \\\n",
    "    .setOutputCol(\"filtered\") \\\n",
    "    .setStopWords(StopWordsRemover.loadDefaultStopWords(\"english\"))"
   ]
  },
  {
   "cell_type": "markdown",
   "metadata": {
    "colab_type": "text",
    "id": "iyTJDv7zhJYX"
   },
   "source": [
    "Finally, we turn this into a pipeline. It is important to include your text processing steps in your pipeline. This will let you explore hyperparameters of your machine learning model alongside NLP parameters. This gets more important the more complex your NLP preprocessing becomes. We will also include our bag-of-words stages."
   ]
  },
  {
   "cell_type": "code",
   "execution_count": 20,
   "metadata": {
    "colab": {},
    "colab_type": "code",
    "id": "-Ac8IPgjiOP9"
   },
   "outputs": [],
   "source": [
    "from pyspark.ml.feature import CountVectorizer, IDF\n",
    "count_vectorizer = CountVectorizer(inputCol='filtered', \n",
    "    outputCol='tf', minDF=10)\n",
    "idf = IDF(inputCol='tf', outputCol='tfidf', minDocFreq=10)\n",
    "\n",
    "pipeline = Pipeline() \\\n",
    "    .setStages([\n",
    "        assembler, \n",
    "        sentence, \n",
    "        tokenizer, \n",
    "        lemmatizer, \n",
    "        normalizer, \n",
    "        finisher, \n",
    "        sw_remover,\n",
    "        count_vectorizer,\n",
    "        idf\n",
    "    ]) \\\n",
    "    .fit(texts)"
   ]
  },
  {
   "cell_type": "markdown",
   "metadata": {
    "colab_type": "text",
    "id": "CPfqDbb9hJi7"
   },
   "source": [
    "Now that we have our pipeline constructed, we transform our texts."
   ]
  },
  {
   "cell_type": "code",
   "execution_count": 21,
   "metadata": {
    "colab": {},
    "colab_type": "code",
    "id": "WF4jMVqwiQop"
   },
   "outputs": [],
   "source": [
    "features = pipeline.transform(texts).persist()"
   ]
  },
  {
   "cell_type": "code",
   "execution_count": 22,
   "metadata": {
    "colab": {
     "base_uri": "https://localhost:8080/",
     "height": 212
    },
    "colab_type": "code",
    "id": "nRJCypvViRyc",
    "outputId": "e990f411-b97a-4de7-fdb8-cf2d28d2c08c"
   },
   "outputs": [
    {
     "name": "stdout",
     "output_type": "stream",
     "text": [
      "root\n",
      " |-- path: string (nullable = true)\n",
      " |-- text: string (nullable = true)\n",
      " |-- newsgroup: string (nullable = true)\n",
      " |-- normalized: array (nullable = true)\n",
      " |    |-- element: string (containsNull = true)\n",
      " |-- filtered: array (nullable = true)\n",
      " |    |-- element: string (containsNull = true)\n",
      " |-- tf: vector (nullable = true)\n",
      " |-- tfidf: vector (nullable = true)\n",
      "\n"
     ]
    }
   ],
   "source": [
    "features.printSchema()"
   ]
  },
  {
   "cell_type": "markdown",
   "metadata": {
    "colab_type": "text",
    "id": "tJboKG4qhJft"
   },
   "source": [
    "In Spark MLlib, the features are stored in a single vector-valued column. This is much more efficient than creating a column for each of the features, but it does make interacting with the data more complicated. To deal with this, we will be pulling the data into a pandas DataFrame. We can do this because our data is small and can fit in memory. This would not work on a larger data set.\n",
    "\n",
    "Now that we have a fitted `CountVectorizerModel`, we can look at the vocabulary it found. The words are sorted by document frequency."
   ]
  },
  {
   "cell_type": "code",
   "execution_count": 23,
   "metadata": {
    "colab": {
     "base_uri": "https://localhost:8080/",
     "height": 176
    },
    "colab_type": "code",
    "id": "sa0J0KOeiXRT",
    "outputId": "f9f809a2-eecf-4e63-9a3d-65adb5c8cbce"
   },
   "outputs": [
    {
     "data": {
      "text/plain": [
       "[DocumentAssembler_cdb3db9a9ac8,\n",
       " SentenceDetector_94b537e232f7,\n",
       " REGEX_TOKENIZER_67ff5fcb532c,\n",
       " LEMMATIZER_c62ad8f355f9,\n",
       " NORMALIZER_848ff0cd0dad,\n",
       " Finisher_a1ea5214d0be,\n",
       " StopWordsRemover_058216711a66,\n",
       " CountVectorizerModel: uid=CountVectorizer_1a7497a444af, vocabularySize=3033,\n",
       " IDFModel: uid=IDF_017392491188, numDocs=2000, numFeatures=3033]"
      ]
     },
     "execution_count": 23,
     "metadata": {},
     "output_type": "execute_result"
    }
   ],
   "source": [
    "pipeline.stages"
   ]
  },
  {
   "cell_type": "code",
   "execution_count": 24,
   "metadata": {
    "colab": {},
    "colab_type": "code",
    "id": "DqIs6dUIiZDx"
   },
   "outputs": [],
   "source": [
    "cv_model = pipeline.stages[-2]"
   ]
  },
  {
   "cell_type": "code",
   "execution_count": 25,
   "metadata": {
    "colab": {
     "base_uri": "https://localhost:8080/",
     "height": 34
    },
    "colab_type": "code",
    "id": "_4C_iztyiaKi",
    "outputId": "37be1e3c-4281-4519-ef1a-c4d25cf53c7b"
   },
   "outputs": [
    {
     "data": {
      "text/plain": [
       "3033"
      ]
     },
     "execution_count": 25,
     "metadata": {},
     "output_type": "execute_result"
    }
   ],
   "source": [
    "len(cv_model.vocabulary)"
   ]
  },
  {
   "cell_type": "markdown",
   "metadata": {
    "colab_type": "text",
    "id": "6cyOa2jahJUm"
   },
   "source": [
    "This is a modest vocabulary size. We will see larger sizes when we get to \"Applications\" part of this book.\n",
    "\n",
    "Let's look at our top 10 words by document frequency."
   ]
  },
  {
   "cell_type": "markdown",
   "metadata": {},
   "source": [
    "CountVectorizer는 fit할 때, 어휘만 추가하고, transform할 때, 문서별 어휘의 숫자만 구하는 줄 알았는데,\n",
    "vocabulary가 Document Frequency에 따라 정렬 된다고 함."
   ]
  },
  {
   "cell_type": "code",
   "execution_count": 26,
   "metadata": {
    "colab": {
     "base_uri": "https://localhost:8080/",
     "height": 34
    },
    "colab_type": "code",
    "id": "lSSR9gqZiiOo",
    "outputId": "8e95651f-c95b-4818-cb62-f6e030a4d460"
   },
   "outputs": [
    {
     "data": {
      "text/plain": [
       "['write', 'one', 'use', 'get', 'article', 'say', 'know', 'x', 'make', 'dont']"
      ]
     },
     "execution_count": 26,
     "metadata": {},
     "output_type": "execute_result"
    }
   ],
   "source": [
    "cv_model.vocabulary[:10]"
   ]
  },
  {
   "cell_type": "markdown",
   "metadata": {
    "colab_type": "text",
    "id": "O8SGkw35hJN1"
   },
   "source": [
    "Let's look at the distribution of mean term frequency. We will create a histogram of mean term frequency"
   ]
  },
  {
   "cell_type": "code",
   "execution_count": 55,
   "metadata": {
    "colab": {},
    "colab_type": "code",
    "id": "cnF68CUMimXH"
   },
   "outputs": [],
   "source": [
    "tf = features.select('tf').toPandas()\n",
    "tf = tf['tf'].apply(lambda sv: sv.toArray())\n",
    "mean_tf = pd.Series(tf.mean(), index=cv_model.vocabulary)"
   ]
  },
  {
   "cell_type": "code",
   "execution_count": 47,
   "metadata": {},
   "outputs": [
    {
     "data": {
      "text/plain": [
       "0       [2.0, 1.0, 0.0, 0.0, 0.0, 0.0, 0.0, 0.0, 0.0, ...\n",
       "1       [4.0, 0.0, 0.0, 0.0, 4.0, 1.0, 1.0, 0.0, 1.0, ...\n",
       "2       [1.0, 0.0, 0.0, 1.0, 1.0, 1.0, 0.0, 0.0, 0.0, ...\n",
       "3       [1.0, 0.0, 0.0, 0.0, 0.0, 0.0, 0.0, 0.0, 1.0, ...\n",
       "4       [1.0, 1.0, 0.0, 3.0, 0.0, 1.0, 3.0, 0.0, 0.0, ...\n",
       "                              ...                        \n",
       "1995    [0.0, 3.0, 0.0, 0.0, 0.0, 5.0, 2.0, 2.0, 2.0, ...\n",
       "1996    [2.0, 1.0, 0.0, 2.0, 2.0, 0.0, 0.0, 0.0, 1.0, ...\n",
       "1997    [2.0, 0.0, 0.0, 0.0, 1.0, 0.0, 0.0, 0.0, 0.0, ...\n",
       "1998    [0.0, 0.0, 0.0, 0.0, 0.0, 0.0, 0.0, 0.0, 0.0, ...\n",
       "1999    [2.0, 3.0, 0.0, 0.0, 1.0, 0.0, 0.0, 0.0, 1.0, ...\n",
       "Name: tf, Length: 2000, dtype: object"
      ]
     },
     "execution_count": 47,
     "metadata": {},
     "output_type": "execute_result"
    }
   ],
   "source": [
    "tf"
   ]
  },
  {
   "cell_type": "code",
   "execution_count": 62,
   "metadata": {},
   "outputs": [
    {
     "data": {
      "text/plain": [
       "write       0.9150\n",
       "one         0.8310\n",
       "use         0.8155\n",
       "get         0.6755\n",
       "article     0.6450\n",
       "             ...  \n",
       "oo          0.0050\n",
       "namely      0.0050\n",
       "publicly    0.0050\n",
       "zealand     0.0050\n",
       "na          0.0050\n",
       "Length: 3033, dtype: float64"
      ]
     },
     "execution_count": 62,
     "metadata": {},
     "output_type": "execute_result"
    }
   ],
   "source": [
    "mean_tf"
   ]
  },
  {
   "cell_type": "markdown",
   "metadata": {},
   "source": [
    "tf는 array의 series이고 tf.mean()을 하면, array의 각 item별 평균이 나와서\n",
    "각 어휘당 평균 빈도 수를 구할 수 있음\n"
   ]
  },
  {
   "cell_type": "code",
   "execution_count": 66,
   "metadata": {
    "colab": {
     "base_uri": "https://localhost:8080/",
     "height": 498
    },
    "colab_type": "code",
    "id": "yZU-WPA_inWy",
    "outputId": "f80d58ca-5b91-4e7e-f7d1-dbb0c3c34f2a"
   },
   "outputs": [
    {
     "data": {
      "image/png": "[encoded data removed]",
      "text/plain": [
       "<Figure size 864x576 with 1 Axes>"
      ]
     },
     "metadata": {
      "needs_background": "light"
     },
     "output_type": "display_data"
    }
   ],
   "source": [
    "plt.figure(figsize=(12, 8))\n",
    "mean_tf.hist(bins=10)\n",
    "plt.title('Histogram of mean term frequency per word over the corpus')\n",
    "plt.show()"
   ]
  },
  {
   "cell_type": "markdown",
   "metadata": {},
   "source": [
    "평균 빈도의 도수 분포도. 대부분 단어 빈도 평균이 0~ 0.1 "
   ]
  },
  {
   "cell_type": "markdown",
   "metadata": {
    "colab_type": "text",
    "id": "jq9PnbUshJGn"
   },
   "source": [
    "We can see that this looks like a power law distribution. Let's plot the log of the ranks versus the log of the mean term frequency"
   ]
  },
  {
   "cell_type": "code",
   "execution_count": 72,
   "metadata": {
    "colab": {
     "base_uri": "https://localhost:8080/",
     "height": 498
    },
    "colab_type": "code",
    "id": "EIMWSvQoirv4",
    "outputId": "9644d0a5-d6ff-4d2a-c982-00c6ecc795f5"
   },
   "outputs": [
    {
     "data": {
      "image/png": "[encoded data removed]",
      "text/plain": [
       "<Figure size 864x576 with 1 Axes>"
      ]
     },
     "metadata": {
      "needs_background": "light"
     },
     "output_type": "display_data"
    }
   ],
   "source": [
    "plt.figure(figsize=(12, 8))\n",
    "ranks = np.arange(len(mean_tf)) + 1\n",
    "plt.plot(np.log10(ranks), np.log10(mean_tf.values))\n",
    "plt.title('Plot of the log of rank (by mean term frequency) versus the log of mean term frequency')\n",
    "plt.show()"
   ]
  },
  {
   "cell_type": "code",
   "execution_count": 86,
   "metadata": {},
   "outputs": [
    {
     "data": {
      "image/png": "[encoded data removed]",
      "text/plain": [
       "<Figure size 864x576 with 1 Axes>"
      ]
     },
     "metadata": {
      "needs_background": "light"
     },
     "output_type": "display_data"
    }
   ],
   "source": [
    "plt.figure(figsize=(12, 8))\n",
    "ranks = np.arange(len(mean_tf)) + 1\n",
    "plt.plot(ranks, mean_tf.values)\n",
    "plt.title('Plot of the log of rank (by mean term frequency) versus the log of mean term frequency')\n",
    "plt.show()"
   ]
  },
  {
   "cell_type": "markdown",
   "metadata": {},
   "source": [
    "log10을 쓰는 이유는 큰 값을 작게 보기위해서라고..\n",
    "- 정규성을 높이고 분석(회귀분석)에서 정확한 값을 얻기 위함\n",
    "- 왜도(skewness, 데이터가 한쪽으로 치우친 정도)와 첨도(kurtosis, 분포가 얼마나 뾰족한지를 나타내는 정도)를 줄일 수 있기 때문에 정규성이 높아진다.\n",
    "\n",
    "Q.\n",
    "- 정규성이란?\n",
    "- 회귀분석에서 왜 정확한 값을 얻게되는것인지? 왜도와 첨도를 줄여서, 좀더 일관된 값을 가지기 때문인지? 그런데 그래프 형태 자체가 다른데.."
   ]
  },
  {
   "cell_type": "code",
   "execution_count": 53,
   "metadata": {},
   "outputs": [
    {
     "data": {
      "text/plain": [
       "write       0.9150\n",
       "one         0.8310\n",
       "use         0.8155\n",
       "get         0.6755\n",
       "article     0.6450\n",
       "             ...  \n",
       "oo          0.0050\n",
       "namely      0.0050\n",
       "publicly    0.0050\n",
       "zealand     0.0050\n",
       "na          0.0050\n",
       "Length: 3033, dtype: float64"
      ]
     },
     "execution_count": 53,
     "metadata": {},
     "output_type": "execute_result"
    }
   ],
   "source": [
    "mean_tf"
   ]
  },
  {
   "cell_type": "markdown",
   "metadata": {
    "colab_type": "text",
    "id": "N1AHV5u5hI-7"
   },
   "source": [
    "This is normally what you see with a vocabulary distribution. Notice, that even though we removed the most common words, and dropped very rare words, by setting `minDF` to 10, we still have the expected distribution.\n",
    "\n",
    "Now that we have our features and have assured ourselves that we have not disturbed the expected distribution of words, how can we reduce the number of features? We could try and add more words to our stop-word list, or we could increase our `minDF` to remove more rare words. But let's think about a more principled way to approach this. Many of the more well-known techniques for reducing the number of features, for example looking at the univariate predictive power of each feature, will not work well with text. The strength of bag-of-words features is their interactions. So we may throw away features that are not powerful on their own but could be very powerful in combination. The high dimensionality means that we can't explore all the possible interactions. So what can we do?\n",
    "\n",
    "We can use a dictionary of words or phrases that domain experts have selected as important to the problem. We can also build a tree-based model, for example, random forest, and use the feature importances to select a subset of features. This can work because the random forest model is nonlinear and can discover interactions—so, a word that is important only in combination.\n",
    "\n",
    "We will look at other techniques for reducing dimensionality in the \"Topic Modeling\" and \"Word Embeddings\".  Now, let's discuss the modeling of text using TF.IDF features."
   ]
  },
  {
   "cell_type": "markdown",
   "metadata": {},
   "source": [
    "드문 단어를 제거하고, 자주 나오는 단어를 제거 했음에도, power law로 분산되어 있음.\n",
    "이렇게 되면, 자주나오는 단어, 드문 단어가 실제 결과에 영향을 미쳐서 좋지 않다는 의미 인듯.\n",
    "\n",
    "\n",
    "- minDf를 늘리거나, 불용어를 추가를 해볼 수 있지만,\n",
    "- 원칙적인 방법으로\n",
    "    - 도메인 전문가가 중요하다고 선택한 구문사전 사용\n",
    "    - random forest와 같은 트리기반 모델 구축, feature importance가 높은 feature들을 선택(비선형적이라, 조합했을 때 중요한 단어를 찾을 수 있음)\n",
    "    \n",
    "Q. 그러면, 어떤 형태의 그래프가 좋은 건지?\n"
   ]
  },
  {
   "cell_type": "markdown",
   "metadata": {
    "colab_type": "text",
    "id": "wQZuDRlmhIwW"
   },
   "source": [
    "## Modeling\n",
    "\n",
    "Once you have converted your text into a feature vector, things start to look more like a regular machine learning problem, with some exceptions. The following are the most important things to keep in mind:\n",
    "\n",
    "There are many sparse features.\n",
    "These features are not independent of each other.\n",
    "We have lost a massive part of language by losing the ordering of words.\n",
    "Fortunately, none of these are showstoppers. Even if an algorithm makes assumptions that are violated by these facts, it can still be effective. We will discuss some popular algorithms here, and we will try out these algorithms in the exercises in this chapter.\n",
    "\n",
    "### Naïve Bayes\n",
    "  Naïve Bayes gets its name from its naïve assumption that all the features are mutually independent. It then estimates the probability of a class conditioned on the feature values. We know, from linguistics and common sense, that words are not independent of each other. But naïve Bayes is actually a popular baseline for text classification. The reason naïve Bayes is so popular is that the probability that it produces is similar to TF.IDF:\n",
    "\n",
    "\\begin{equation}\n",
    "P(class | \\text{term}_1, \\text{term}_2, ..., \\text{term}_N) = \\frac{P(class)\\prod^N_{i=1}{P(\\text{term}_i|class)}}{\\sum^K_{k=1}{P(class_k)\\prod^N_{i=1}{P(\\text{term}_i|class_k)}}}\n",
    "\\end{equation}\n",
    "\n",
    "If a term is common in all classes, it will not contribute much to this value. However, if a term is unique to the documents in a particular class it will be an important feature for naïve Bayes. This is similar to how IDF reduces the importance of words that are common to many documents."
   ]
  },
  {
   "cell_type": "markdown",
   "metadata": {},
   "source": [
    "naive bayes\n",
    "- 모든 피쳐가 독립적이라는 순수한(naive) 가정하에 쓰는 모델\n",
    "- 여러 단어가 조합하여 feature importance가 높아지지 않는 경우에 사용\n",
    "- 실제 자연어는 단어와 단어가 독립적일 수 없지만, TF.IDF와 비슷하여, 인기가 있다고 함.\n",
    "- 스팸 메일 필터, 텍스트 분류, 감정 분석, 추천 시스템 등에 광범위하게 활용되는 분류 기법\n",
    "- k : 클래스 수\n",
    "- N : 피쳐 수\n",
    "- P(term|class)는 term이 있을 때, class일 확률\n",
    "- P(class) 전체 중 class의 비율\n",
    "- P(class|term1,term2,termN) : term1~N이 있을 때, class의 확률\n",
    "- 특정 클래스의 값 = (클래스 비율) * (각 term이 있을 때 class의 확률)\n",
    "- 특정 클래스의 값 / 전체 클래스의 값의 합 = 특정 클래스의 확률"
   ]
  },
  {
   "cell_type": "markdown",
   "metadata": {
    "colab_type": "text",
    "id": "1TU-MgDIhIeK"
   },
   "source": [
    "### Linear Models\n",
    "\n",
    "Linear models like linear regression and logistic regression assume that their predictors are independent of each other. One way we could get around this is to look at interactions. However, that will not work in our case because we have a very high dimensional space. If you plan on using a linear model, you will likely want to put more effort in your featurization. Specifically, you will want to be more aggressive in reducing the number of features.\n",
    "\n",
    "### Decision/Regression Trees\n",
    "\n",
    "Decision and regression trees can learn nonlinear relationships, and they don't have any assumptions of independence. They can be adversely affected by the sparse features. Variables with less inherent entropy, like words that are relatively uncommon, are less likely to be picked for splitting by splitting criteria like information gain. This means that any nonsparse features will be favored over sparse features. Also, words with higher variance, often meaning higher document frequency, can be favored over words with lower document frequency. This can be mitigated, for example, by being more aggressive with stop-word removal. If you are using random forest or gradient boosted trees, you can mitigate some of the difficulties mentioned previously.\n",
    "\n",
    "Another great aspect of tree-based models is the ability to easily interpret the output of the model. Because you can see which features are being selected, you can easily check if the learning algorithm is making a sensible model.\n",
    "\n",
    "### Deep Learning Algorithms\n",
    "\n",
    "Neural networks are great at learning complex functions, but they do require quite a bit of data. The data needed goes up quickly with the number of parameters. If you are using the bag-of-words approach, the number of parameters for the first layer will be the size of your vocabulary times the size of the first hidden layer. This is already quite large. This means that you are spending a lot of time learning intermediate representations for words—which can also lead to overfitting. It is often a good idea to use word embeddings, which we will discuss in #word_embeddings, so that your classification or regression model has far fewer parameters to learn.\n",
    "\n",
    "Always keep in mind what you want from your data when doing NLP, or machine learning in general. Training and deploying deep learning models is often more complicated than with classical machine learning models. Always try the simplest thing first."
   ]
  },
  {
   "cell_type": "markdown",
   "metadata": {},
   "source": [
    "Linear Model\n",
    "- 피쳐가 독립적이라는 가정\n",
    "- 특성 수를 줄일 수 있는 만큼 줄이면 좋다는 것 같음\n",
    "\n",
    "Decision, regression tree\n",
    "- 피쳐 독립성을 가정하지 않음\n",
    "- 회소한 경우에 가중치가 높게 측정되야 하는 경우도 있는데(IDF), 이 모델들은 회소한 것보다, 자주 발생하는 피쳐에 의해 영향을 받을 가능성이 높다고 함.\n",
    "- 이러한 단점을 극복하기 위해서 stop-word removing을 적극적으로 해야 한다고 함.\n",
    "- random forest나 gradient boosted tree를 쓰면 이러한 어려움을 완화 할 수 있다고 함\n",
    "\n",
    "Deep learning\n",
    "- 데이터가 많이 필요하다."
   ]
  },
  {
   "cell_type": "markdown",
   "metadata": {
    "colab_type": "text",
    "id": "qPcX6vRXhH3X"
   },
   "source": [
    "## Iteration\n",
    "\n",
    "The most important part of any classification or regression project is your iteration cycle.\n",
    "\n",
    "![How to iterate on NLP classification and regression problems](https://i.imgur.com/7prHD6w.png)  \n",
    "_How to iterate on NLP classification and regression problems_\n",
    "\n",
    "If you have done machine learning in the past, most of this will look familiar. There are some differences when working with text data that we should keep in mind, so let's go over the following steps.\n",
    "\n",
    "1. Get data.\n",
    "\n",
    "This is often the most time-consuming part of such a project. Hopefully, the data you work with is well-maintained and well-documented. Whether it is or not, you must validate the data.\n",
    "\n",
    "2. Look at the data.\n",
    "\n",
    "Whether working with structured or unstructured data, we generally need to do some work to prepare our data for modeling. With structured data, this often means removing invalid values or normalizing a field. With text data this is a little more murky. There may be business logic that dictates a minimum or maximum length. Or perhaps there are certain documents you want to remove based on metadata. Outside of business logic, you should check the encodings of your documents and convert them to a common encoding (e.g., UTF-8).\n",
    "\n",
    "You also want to create a hold-out set. Even if you are using a form of cross-validation instead of a train-test split, it's important to keep a completely untouched hold-out. It is easy to overfit to text data.\n",
    "\n",
    "3. Process the data.\n",
    "\n",
    "Whether working with structured or unstructured data, we generally need to do some work to prepare our data for modeling. In structured data, this often means removing invalid values or normalizing a field. With text data this is a little more murky. There may be business logic that dictates a minimum or maximum length. Or perhaps there are certain documents you want to remove based on metadata. Outside of business logic, you should check the encodings of your documents and convert them to a common encoding (e.g., UTF-8).\n",
    "\n",
    "You also want to create a hold-out set. Even if you are using a form of cross-validation instead of a train-test split, it's important to keep a completely untouched hold-out. It is often easy to overfit to text data.\n",
    "\n",
    "4. Featurize.\n",
    "\n",
    "Now that you have your data processed and ready, you can create feature vectors. After creating features, you should do some basic exploratory analysis of the features. You look at the vocabulary distribution like we did previously. You can also use topic models for this, which we will cover in #topic_modeling. Topic models can give you insights for deciding how to create your model and, as a side benefit, will help you catch errors.\n",
    "\n",
    "Because NLP featurization is often more complicated than featurization with structured data, you will want to have your featurization stages in the same pipeline as your modeling. This will help optimize model hyperparameters alongside featurization parameters.\n",
    "\n",
    "5. Model.\n",
    "\n",
    "You need to decide on which algorithm you want to use. As with general machine learning tasks, you will want to set a baseline. Popular models for setting baselines for text-based classification and regression problems are logistic regression, naïve Bayes, and decision trees. Once you have your features, and you have decided on an algorithm, you can train your model.\n",
    "\n",
    "6. Evaluate.\n",
    "\n",
    "Looking at the data is important to understanding what is happening with your model, but looking at metrics is just as important. You should iterate using cross-validation or on a dedicated validation set. Your hold-out set must be saved until you think you are ready to go to production.\n",
    "\n",
    "7. Review.\n",
    "\n",
    "It's important to get fresh eyes on as much of your pipeline as possible.\n",
    "\n",
    "  * Review your code: data processing code can be difficult to review if someone does not have familiarity with the data. If you can't find someone who has context to review your code, having thorough documentation becomes important.\n",
    "  * Review your data: you can review your data with a subject-matter expert. Also, consider reviewing with someone who is fully unfamiliar with the data.\n",
    "  * Review your features: the features you've created should make sense. If this is the case, you should review these features with a domain expert. If the features are too abstract to easily tie back to the domain, it might be worthwhile to review the theory behind your features with someone who has experience building similar models.\n",
    "  * Review your model: when working on a modeling project, it's easy to get lost in the details. It's important to review your rationale for the chosen algorithm, as well as the output.\n",
    "  * Review your metrics: as with any machine learning project, you should be able to give clear interpretation of your metrics—especially the metric you make business decisions on. If you have a hard time finding a good metric, you may not have the best approach to the problem. Sometimes, a classification problem is better framed as ranking problem.\n",
    "  * Review your documentation: you should make sure that your whole pipeline is well documented. This is necessary if you want to have reproducibility.\n",
    "\n",
    "Now that you have validated your baseline model, it's time to make a decision. Is the baseline good enough for production? If so, ship it. Otherwise, it's time to look at the data again. Now you have your cycle set up, and you can start to improve your metrics.\n",
    "\n"
   ]
  },
  {
   "cell_type": "markdown",
   "metadata": {
    "colab_type": "text",
    "id": "FWkFZ0A1lBK1"
   },
   "source": []
  },
  {
   "cell_type": "markdown",
   "metadata": {
    "colab_type": "text",
    "id": "2omjkVwdlB7J"
   },
   "source": []
  },
  {
   "cell_type": "markdown",
   "metadata": {
    "colab_type": "text",
    "id": "6lAw5agQlCNW"
   },
   "source": []
  },
  {
   "cell_type": "markdown",
   "metadata": {
    "colab_type": "text",
    "id": "eMqSUH2RlCg3"
   },
   "source": [
    "Now we have a framework for building text-based classifiers and regressors. There is no singular technique that makes working with the sparse, high dimensional text easier. You should rely on domain experts to help inform your choices. This chapter covered generic ideas and rules; we will look at more concrete applications in part_application of this book. One issue with the bag-of-words approach is that we lose an important part of language—syntax. We can capture some of that with N-grams, but what happens if we want to classify pieces in the text? In the next chapter, we explore how to build sequence models."
   ]
  },
  {
   "cell_type": "markdown",
   "metadata": {},
   "source": [
    "분류 회귀 문제\n",
    "- 로지스틱 회귀, 나이브 베이즈, 의사결정 트리가 인기 있다고 함.\n",
    "- 의사결정 트리는 단어와 단어가 연관성이 클 때 쓰면 좋을듯."
   ]
  },
  {
   "cell_type": "markdown",
   "metadata": {
    "colab_type": "text",
    "id": "Q-FV_xIWlCXB"
   },
   "source": [
    "## Exercises\n",
    "\n",
    "Let's build a classifier to predict the newsgroup that a document belongs to. We will start out with the pipeline we built previously in this chapter, and we will use a naïve Bayes classifier.\n",
    "\n",
    "Use the [Spark MLlib Guide](https://spark.apache.org/docs/latest/ml-guide.html) as a reference to try new things."
   ]
  },
  {
   "cell_type": "code",
   "execution_count": 87,
   "metadata": {
    "colab": {},
    "colab_type": "code",
    "id": "pXQuIdNnlOqv"
   },
   "outputs": [],
   "source": [
    "train, test = texts.randomSplit([0.8, 0.2], seed=123)"
   ]
  },
  {
   "cell_type": "code",
   "execution_count": 88,
   "metadata": {
    "colab": {},
    "colab_type": "code",
    "id": "UvvfMpxtlPo1"
   },
   "outputs": [],
   "source": [
    "stopwords = set(StopWordsRemover.loadDefaultStopWords(\"english\"))"
   ]
  },
  {
   "cell_type": "code",
   "execution_count": 90,
   "metadata": {
    "colab": {},
    "colab_type": "code",
    "id": "EzgYCLDylQju"
   },
   "outputs": [],
   "source": [
    "sw_remover = StopWordsRemover() \\\n",
    "    .setInputCol(\"normalized\") \\\n",
    "    .setOutputCol(\"filtered\") \\\n",
    "    .setStopWords(list(stopwords))\n",
    "\n",
    "count_vectorizer = CountVectorizer(inputCol='filtered', \n",
    "    outputCol='tf', minDF=10)\n",
    "idf = IDF(inputCol='tf', outputCol='tfidf', minDocFreq=10)\n",
    "\n",
    "text_processing_pipeline = Pipeline(stages=[\n",
    "        assembler, \n",
    "        sentence, \n",
    "        tokenizer, \n",
    "        lemmatizer, \n",
    "        normalizer,\n",
    "        finisher,\n",
    "        sw_remover,\n",
    "        count_vectorizer,\n",
    "        idf\n",
    "    ])"
   ]
  },
  {
   "cell_type": "code",
   "execution_count": 91,
   "metadata": {
    "colab": {},
    "colab_type": "code",
    "id": "OMughi1xlSUg"
   },
   "outputs": [],
   "source": [
    "from pyspark.ml.feature import IndexToString, StringIndexer\n",
    "from pyspark.ml.classification import *\n",
    "from pyspark.ml.tuning import *\n",
    "from pyspark.ml.evaluation import *"
   ]
  },
  {
   "cell_type": "code",
   "execution_count": 80,
   "metadata": {
    "colab": {},
    "colab_type": "code",
    "id": "5tXK6RK1lT0N"
   },
   "outputs": [],
   "source": [
    "label_indexer = StringIndexer(inputCol='newsgroup', outputCol='label').fit(texts)\n",
    "naive_bayes = NaiveBayes(featuresCol='tfidf')\n",
    "prediction_deindexer = IndexToString(inputCol='prediction', outputCol='pred_newsgroup', \n",
    "                                     labels=label_indexer.labels)\n",
    "\n",
    "pipeline = Pipeline(stages=[\n",
    "    text_processing_pipeline, label_indexer, naive_bayes, prediction_deindexer\n",
    "])"
   ]
  },
  {
   "cell_type": "code",
   "execution_count": 81,
   "metadata": {
    "colab": {},
    "colab_type": "code",
    "id": "1CGssWbKlVTY"
   },
   "outputs": [],
   "source": [
    "model = pipeline.fit(train)"
   ]
  },
  {
   "cell_type": "code",
   "execution_count": 82,
   "metadata": {
    "colab": {},
    "colab_type": "code",
    "id": "foy_wZ4nlWWY"
   },
   "outputs": [],
   "source": [
    "train_predicted = model.transform(train)\n",
    "test_predicted = model.transform(test)"
   ]
  },
  {
   "cell_type": "markdown",
   "metadata": {
    "colab_type": "text",
    "id": "LoaAeJH3lCEl"
   },
   "source": [
    "We are using F1-score, which is the harmonic mean of precision and recall."
   ]
  },
  {
   "cell_type": "code",
   "execution_count": 83,
   "metadata": {
    "colab": {},
    "colab_type": "code",
    "id": "lastrboTlYoX"
   },
   "outputs": [],
   "source": [
    "evaluator = MulticlassClassificationEvaluator(metricName='f1')"
   ]
  },
  {
   "cell_type": "code",
   "execution_count": 84,
   "metadata": {
    "colab": {
     "base_uri": "https://localhost:8080/",
     "height": 34
    },
    "colab_type": "code",
    "id": "G9en316GlcxY",
    "outputId": "92431356-23d6-4040-f2a8-313af1ed31d8"
   },
   "outputs": [
    {
     "name": "stdout",
     "output_type": "stream",
     "text": [
      "f1 0.9356155411571538\n"
     ]
    }
   ],
   "source": [
    "print('f1', evaluator.evaluate(train_predicted))"
   ]
  },
  {
   "cell_type": "code",
   "execution_count": 85,
   "metadata": {
    "colab": {
     "base_uri": "https://localhost:8080/",
     "height": 34
    },
    "colab_type": "code",
    "id": "wB8kB4VtleNX",
    "outputId": "cacd5c03-bb8d-4b71-eea7-2344347a97e6"
   },
   "outputs": [
    {
     "name": "stdout",
     "output_type": "stream",
     "text": [
      "f1 0.6307657823156707\n"
     ]
    }
   ],
   "source": [
    "print('f1', evaluator.evaluate(test_predicted))"
   ]
  },
  {
   "cell_type": "markdown",
   "metadata": {
    "colab_type": "text",
    "id": "cnf4C-JqlBjm"
   },
   "source": [
    "It looks like we are doing much better on the training data than on the testing data—perhaps we are overfitting. Experiment, and see how well you can do on the test set."
   ]
  },
  {
   "cell_type": "markdown",
   "metadata": {},
   "source": [
    "F1 score로 overfitting을 확인"
   ]
  },
  {
   "cell_type": "code",
   "execution_count": null,
   "metadata": {},
   "outputs": [],
   "source": []
  }
 ],
 "metadata": {
  "colab": {
   "authorship_tag": "ABX9TyP5BxX94CnKmHGRlTcMcwZb",
   "include_colab_link": true,
   "name": "2.7_Classification_and_Regression.ipynb",
   "provenance": []
  },
  "kernelspec": {
   "display_name": "Python 3",
   "language": "python",
   "name": "python3"
  },
  "language_info": {
   "codemirror_mode": {
    "name": "ipython",
    "version": 3
   },
   "file_extension": ".py",
   "mimetype": "text/x-python",
   "name": "python",
   "nbconvert_exporter": "python",
   "pygments_lexer": "ipython3",
   "version": "3.9.4"
  }
 },
 "nbformat": 4,
 "nbformat_minor": 1
}
